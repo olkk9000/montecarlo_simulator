{
 "cells": [
  {
   "cell_type": "markdown",
   "id": "45762487-d33f-486d-8e38-2cdea04e3528",
   "metadata": {},
   "source": [
    "# Final Project Report\n",
    "\n",
    "* Class: DS 5100\n",
    "* Student Name: Olivia Kantor\n",
    "* Student Net ID: uts4gf\n",
    "* This URL: https://github.com/olkk9000/ds5100_uts4gf_montecarlo/blob/main/montecarlo_demo.ipynb"
   ]
  },
  {
   "cell_type": "markdown",
   "id": "acf756c1-ecaa-41dc-b6ca-d566eb94560b",
   "metadata": {},
   "source": [
    "# Instructions\n",
    "\n",
    "Follow the instructions in the [Final Project](https://ontoligent.github.io/DS5100-2023-07-R/notebooks/M00_FinalProject/FinalProjectInstructions.html) isntructions and put your work in this notebook.\n",
    "\n",
    "Total points for each subsection under **Deliverables** and **Scenarios** are given in parentheses.\n",
    "\n",
    "Breakdowns of points within subsections are specified within subsection instructions as bulleted lists.\n",
    "\n",
    "This project is worth **50 points**."
   ]
  },
  {
   "cell_type": "markdown",
   "id": "89dc7a32-f682-4402-8c1e-b6ccdb3e0e39",
   "metadata": {},
   "source": [
    "# Deliverables"
   ]
  },
  {
   "cell_type": "markdown",
   "id": "d32cb273-9a40-4909-a7ce-51f6e4958d3c",
   "metadata": {},
   "source": [
    "## The Monte Carlo Module (10)\n",
    "\n",
    "- URL included, appropriately named (1).\n",
    "- Includes all three specified classes (3).\n",
    "- Includes at least all 12 specified methods (6; .5 each)."
   ]
  },
  {
   "cell_type": "markdown",
   "id": "f5f3b070-de9e-4de9-bfae-8974d184aa28",
   "metadata": {},
   "source": [
    "Put the URL to your GitHub repo here.\n",
    "\n",
    "Repo URL: https://github.com/olkk9000/ds5100_uts4gf_montecarlo"
   ]
  },
  {
   "cell_type": "markdown",
   "id": "162370fb-3729-4c85-b040-8c25b2c966d2",
   "metadata": {},
   "source": [
    "Paste a copyy of your module here.\n",
    "\n",
    "NOTE: Paste as text, not as code. Use triple backticks to wrap your code blocks."
   ]
  },
  {
   "cell_type": "markdown",
   "id": "a0743efc-a785-4b5c-a9e6-b65d4507a67f",
   "metadata": {},
   "source": [
    "```\n",
    "import numpy as np\n",
    "import pandas as pd\n",
    "import random\n",
    "\n",
    "class Die:\n",
    "    \"\"\"\n",
    "    PURPOSE: Create the die class which simulates the roll of dice given input faces and weights\n",
    "    \"\"\"\n",
    "    def __init__(self, faces, weight = 1):\n",
    "        \"\"\"\n",
    "        PURPOSE: create die object and save dataframe of faces and weights\n",
    "        \n",
    "        INPUT:\n",
    "        faces - NumPy array. Array dtype can be strings or numeric. Array values must be distinct.\n",
    "        weight - numeric. Default to 1 for each face value. \n",
    "\n",
    "        OUTPUT: None \n",
    "        \"\"\"\n",
    "        self.faces = faces\n",
    "        self.weight = weight\n",
    "        self.df = pd.DataFrame(data={'weight':weight}, index=[faces])\n",
    "        \n",
    "        if not isinstance(faces, np.ndarray):\n",
    "            raise TypeError(\"faces must be an np.array\")\n",
    "\n",
    "        if len(self.faces) != len(set(self.faces)):\n",
    "            raise ValueError(\"All faces values must be distinct\")\n",
    "\n",
    "    def change_weight(self, face, weight):\n",
    "        \"\"\"\n",
    "        PURPOSE: Changes the weight of a face of the die object.\n",
    "\n",
    "        INPUT:\n",
    "        face - string or numeric. Face value where weight will be changed.\n",
    "        weight - int, float, or str castable as numeric.  \n",
    "\n",
    "        OUTPUT: None\n",
    "        \"\"\"\n",
    "        if face not in self.faces:\n",
    "            raise IndexError(f\"{face} not in faces index\")\n",
    "        \n",
    "        if type(weight)==str:\n",
    "            if weight.isnumeric():\n",
    "                weight = int(weight)\n",
    "            else:\n",
    "                raise TypeError(\"Weight must be int or float\")\n",
    "            \n",
    "        if not (isinstance(weight, int) or isinstance(weight, float)):\n",
    "            raise TypeError(\"Weight must be int or float\")\n",
    "\n",
    "        self.df.loc[face,'weight'] = weight\n",
    "\n",
    "    def roll(self, times=1):\n",
    "        \"\"\"\n",
    "        PURPOSE: Simulates die roll specified number of times.\n",
    "\n",
    "        INPUT: times - int\n",
    "\n",
    "        OUTPUT: list \n",
    "        \"\"\"\n",
    "        face_list = list(self.df.index)\n",
    "        weight_list = self.df['weight'].to_list()\n",
    "\n",
    "        result_list = []\n",
    "        for i in range(times):\n",
    "            result = random.choices(face_list, weights=weight_list, k=1)\n",
    "            clean_result = result[0][0]\n",
    "            result_list.append(clean_result)\n",
    "        \n",
    "        return result_list\n",
    "\n",
    "    def current_state(self):\n",
    "        \"\"\"\n",
    "        PURPOSE: Returns copy of the private die data frame.\n",
    "\n",
    "        INPUT: None \n",
    "\n",
    "        OUTPUT: Data frame\n",
    "        \"\"\"\n",
    "        return self.df\n",
    "\n",
    "class Game:\n",
    "    \"\"\"PURPOSE: Game consists of rolling one or more Die objects one or more times.\"\"\"\n",
    "\n",
    "    def __init__(self, die_list):\n",
    "        \"\"\"\n",
    "        PURPOSE: initalize Game object\n",
    "\n",
    "        INPUT: \n",
    "        die_list - list that contains one or more similar Die Object. Each Die object should have same number of sides and associated faces. Dies may have unique weights.\n",
    "        \n",
    "        OUTPUT: Most recent play.\n",
    "        \"\"\"\n",
    "        self.die_list = die_list\n",
    "\n",
    "    def play(self, times):\n",
    "        \"\"\"\n",
    "        PURPOSE: saves the result of dice rolls to a private data frame\n",
    "\n",
    "        INPUT: \n",
    "        times - int. How many times the dice should be rolled. \n",
    "        \n",
    "        OUTPUT: None\n",
    "        \"\"\"\n",
    "        die_result = {}\n",
    "        roll_number = np.arange(1, times+1)\n",
    "        for counter, d in enumerate(self.die_list):\n",
    "            rolls = d.roll(times)\n",
    "            die_result[counter] = rolls\n",
    "            \n",
    "\n",
    "        game_df = pd.DataFrame(die_result, index=roll_number)\n",
    "        game_df.index.name = \"roll_number\"\n",
    "        self.game_df = game_df\n",
    "\n",
    "    def show_results(self, width):\n",
    "        \"\"\"\n",
    "        PURPOSE: returns copy of the private play data frame.\n",
    "\n",
    "        INPUT: \n",
    "        width - str value \"narrow\" or \"wide\". Specifies format of returned data frame. \n",
    "        \n",
    "        OUTPUT: Data frame.\n",
    "        \"\"\"\n",
    "        if width == \"wide\":\n",
    "            return self.game_df\n",
    "        if width == \"narrow\":\n",
    "            narrow = self.game_df.stack()\n",
    "            narrow = narrow.rename_axis(index=[\"roll_number\", \"die_number\"])\n",
    "            return narrow\n",
    "        else:\n",
    "            raise ValueError(\"For argument 'weight', pass string 'wide' or 'narrow' in lower case\")\n",
    "\n",
    "class Analyzer:\n",
    "    \"\"\"PURPOSE: Analyzer Object takes the results of a single game and computes descriptive statistical properities.\"\"\"\n",
    "\n",
    "    def __init__(self, game):\n",
    "        \"\"\" \n",
    "        PURPOSE: initalizes Analyzer Object.\n",
    "\n",
    "        INPUT: montecarlo Game Object.\n",
    "\n",
    "        OUTPUT: None.\n",
    "        \"\"\"\n",
    "        self.game = game\n",
    "\n",
    "        if not isinstance(game, Game):\n",
    "            raise TypeError(\"Game must be a montecarlo Game class object\")\n",
    "    \n",
    "    def jackpot(self):\n",
    "        \"\"\" \n",
    "        PURPOSE: computes how many times the game resulted in a jackpot.\n",
    "\n",
    "        INPUT: montecarlo Game Object.\n",
    "\n",
    "        OUTPUT: int - number of jackpots.\n",
    "        \"\"\"\n",
    "        df = self.game.game_df\n",
    "        jackpot = 0\n",
    "        \n",
    "        roll_list = df.apply(lambda x: [x[c] for c in df.columns], axis=1)\n",
    "\n",
    "        for l in roll_list.to_list():\n",
    "            if len(set(l)) == 1:\n",
    "                jackpot += 1\n",
    "        \n",
    "        return jackpot\n",
    "\n",
    "    def face_counts_per_roll(self):\n",
    "        \"\"\" \n",
    "        PURPOSE: Computes how many times a given face is rolled in each event.\n",
    "\n",
    "        INPUT: None.\n",
    "\n",
    "        OUTPUT: Data frame.\n",
    "        \"\"\"\n",
    "        df1 = self.game.game_df\n",
    "\n",
    "        #creating frequency count of each roll\n",
    "        df1['roll_list'] = df1.apply(lambda x: [x[c] for c in df1.columns], axis=1)\n",
    "        df1['freq'] = df1['roll_list'].apply(lambda x: {i:x.count(i) for i in set(x)})\n",
    "        freqs = df1['freq'].to_list()\n",
    "        roll_number = df1.index\n",
    "\n",
    "        #creating and cleaning new dataframe\n",
    "        df2 = pd.DataFrame(freqs, index=roll_number)\n",
    "        df2 = df2.fillna('0')\n",
    "        df2 = df2.astype(int)\n",
    "\n",
    "        return df2\n",
    "\n",
    "    def combo_count(self):\n",
    "        \"\"\" \n",
    "        PURPOSE: Computes the distinct combinations of faces rolled, along with their counts.\n",
    "\n",
    "        INPUT: None.\n",
    "\n",
    "        OUTPUT: Data frame with MultiIndex of distinct combinations and counts.\n",
    "        \"\"\"\n",
    "        df3 = self.game.game_df.copy()\n",
    "\n",
    "        ### sorted list are order independent \n",
    "        df3['roll_list'] = df3.apply(lambda x: [x[c] for c in df3.columns], axis=1)\n",
    "        df3['roll_list_ind'] = df3['roll_list'].apply(lambda x: sorted(x))\n",
    "\n",
    "        #cleaning and creating multi-index df\n",
    "        combo = pd.DataFrame(df3[\"roll_list_ind\"].to_list())\n",
    "        combo_cols = combo.columns.to_list()\n",
    "        combo = combo.groupby(by=combo_cols).size()\n",
    "        combo = combo.to_frame(name = \"combo_counts\")\n",
    "\n",
    "        return combo\n",
    "\n",
    "\n",
    "    def perm_count(self):\n",
    "        \"\"\" \n",
    "        PURPOSE: Computes the distinct permutations of faces rolled, along with their counts.\n",
    "\n",
    "        INPUT: None.\n",
    "\n",
    "        OUTPUT: Data frame with MultiIndex of distinct permutations and counts.\n",
    "        \"\"\"\n",
    "        df4 = self.game.game_df.copy()\n",
    "\n",
    "        df4_cols = df4.columns.to_list()\n",
    "        perm = df4.groupby(by=df4_cols).size()\n",
    "        perm = perm.to_frame(name=\"perm_counts\")\n",
    "\n",
    "        return perm\n",
    "\n",
    "```\n",
    "\n"
   ]
  },
  {
   "cell_type": "markdown",
   "id": "6377727a-8f0a-491e-9f1c-d9dc225edd35",
   "metadata": {},
   "source": [
    "## Unitest Module (2)\n",
    "\n",
    "Paste a copy of your test module below.\n",
    "\n",
    "NOTE: Paste as text, not as code. Use triple backticks to wrap your code blocks.\n",
    "\n",
    "- All methods have at least one test method (1).\n",
    "- Each method employs one of Unittest's Assert methods (1)."
   ]
  },
  {
   "cell_type": "markdown",
   "id": "14b878d8-258b-4cf2-ad88-b8ee90d43977",
   "metadata": {},
   "source": [
    "```\n",
    "import unittest\n",
    "import numpy as np\n",
    "import pandas as pd\n",
    "from montecarlo import montecarlo\n",
    "\n",
    "class MontecarloTestSuite(unittest.TestCase):\n",
    "\n",
    "    def test_1_change_weight(self):\n",
    "        #update a weight and see if the new weight is in the dataframe\n",
    "        face = 4\n",
    "        weight = 2 \n",
    "        Die1 = montecarlo.Die(faces=np.array([4,5,6]))\n",
    "        Die1.change_weight(face=face, weight=weight)\n",
    "        df1 = Die1.df\n",
    "        check = df1['weight'][face]\n",
    "\n",
    "        self.assertEqual(check, weight)\n",
    "\n",
    "\n",
    "    def test_2_roll(self):\n",
    "        #roll the dice and make sure result is list length equals times rolled\n",
    "        times = 2\n",
    "        Die2 = montecarlo.Die(faces=np.array([4,5,6]))\n",
    "        roll_result = Die2.roll(times=times)\n",
    "\n",
    "        self.assertEqual(len(roll_result), times)\n",
    "\n",
    "    \n",
    "    def test_3_current_state(self):\n",
    "        #create die object and check the current state matches input array\n",
    "        arr = np.array([4,5,6])\n",
    "        Die3 = montecarlo.Die(faces=arr)\n",
    "        state = Die3.current_state()\n",
    "\n",
    "        self.assertEqual(state.shape[0], len(arr))\n",
    "\n",
    "    \n",
    "    def test_4_play(self):\n",
    "        #check that play creats dataframe of appropriate length\n",
    "        times = 2\n",
    "\n",
    "        Die4a = montecarlo.Die(faces=np.array([4,5,6]))\n",
    "        Die4b = montecarlo.Die(faces=np.array([4,5,6]))\n",
    "        Die4c = montecarlo.Die(faces=np.array([4,5,6]))\n",
    "\n",
    "        Game4 = montecarlo.Game([Die4a, Die4b, Die4c])\n",
    "        Game4.play(times=times)\n",
    "\n",
    "        self.assertTrue(Game4.game_df.shape[0] == times)\n",
    "\n",
    "    def test_5_show_results_wide(self):\n",
    "        #check that show result wide results in wide format columns\n",
    "\n",
    "        Die5a = montecarlo.Die(faces=np.array([4,5,6]))\n",
    "        Die5b = montecarlo.Die(faces=np.array([4,5,6]))\n",
    "        Die5c = montecarlo.Die(faces=np.array([4,5,6]))\n",
    "        dlist5 = [Die5a, Die5b, Die5c]\n",
    "\n",
    "        Game5 = montecarlo.Game(dlist5)\n",
    "        Game5.play(times=2)\n",
    "\n",
    "        df5 = Game5.show_results(width=\"wide\")\n",
    "\n",
    "        self.assertEqual(len(df5.columns), len(dlist5))\n",
    "\n",
    "\n",
    "    def test_6_show_results_narrow(self):\n",
    "        #check that show results narrow results in MultiIndex\n",
    "\n",
    "        Die6a = montecarlo.Die(faces=np.array([4,5,6]))\n",
    "        Die6b = montecarlo.Die(faces=np.array([4,5,6]))\n",
    "        Die6c = montecarlo.Die(faces=np.array([4,5,6]))\n",
    "\n",
    "        Game6 = montecarlo.Game([Die6a, Die6b, Die6c])\n",
    "        Game6.play(times=2)\n",
    "\n",
    "        df6 = Game6.show_results(width=\"narrow\")\n",
    "\n",
    "        self.assertEqual(df6.index.names, ['roll_number', 'die_number'])\n",
    "\n",
    "    def test_7_jackpot(self):\n",
    "        #check that jackpot returns integer value\n",
    "\n",
    "        Die7a = montecarlo.Die(faces=np.array([1,2]))\n",
    "        Die7b = montecarlo.Die(faces=np.array([1,2]))\n",
    "        Die7c = montecarlo.Die(faces=np.array([1,2]))\n",
    "        dlist7 = [Die7a, Die7b, Die7c]\n",
    "\n",
    "        Game7 = montecarlo.Game(dlist7)\n",
    "        Game7.play(times=2)\n",
    "\n",
    "        ana7 = montecarlo.Analyzer(Game7)\n",
    "\n",
    "        jackpot7 = ana7.jackpot()\n",
    "        \n",
    "        self.assertTrue(type(jackpot7)==int)\n",
    "\n",
    "    def test_8_face_counts_per_roll(self):\n",
    "        #check that face count per roll returns appropriate dataframe \n",
    "        #format and length matches times rolled\n",
    "\n",
    "        times=4\n",
    "        Die8a = montecarlo.Die(faces=np.array([4,5,6]))\n",
    "        Die8b = montecarlo.Die(faces=np.array([4,5,6]))\n",
    "        Die8c = montecarlo.Die(faces=np.array([4,5,6]))\n",
    "        dlist8 = [Die8a, Die8b, Die8c]\n",
    "\n",
    "        Game8 = montecarlo.Game(dlist8)\n",
    "        Game8.play(times=times)\n",
    "\n",
    "        ana8 = montecarlo.Analyzer(Game8)\n",
    "        df8 = ana8.face_counts_per_roll()\n",
    "\n",
    "        self.assertTrue((df8.index.name=='roll_number') & (len(df8)==times))\n",
    "\n",
    "    def test_9_combo_count(self):\n",
    "        #verify that combo count creates dataframe with combos column and MultiIndex\n",
    "\n",
    "        Die9a = montecarlo.Die(faces=np.array([4,5,6]))\n",
    "        Die9b = montecarlo.Die(faces=np.array([4,5,6]))\n",
    "        Die9c = montecarlo.Die(faces=np.array([4,5,6]))\n",
    "        dlist9 = [Die9a, Die9b, Die9c]\n",
    "\n",
    "        Game9 = montecarlo.Game(dlist9)\n",
    "        Game9.play(times=4)\n",
    "\n",
    "        ana9 = montecarlo.Analyzer(Game9)\n",
    "        df9 = ana9.combo_count()\n",
    "\n",
    "        self.assertTrue((df9.columns == ['combo_counts']) & (isinstance(df9.index, pd.MultiIndex)))\n",
    "\n",
    "\n",
    "    def test_10_perm_count(self):\n",
    "        #verify that perm count creates dataframe with perm column and MultiIndex\n",
    "        Die10a = montecarlo.Die(faces=np.array([4,5,6]))\n",
    "        Die10b = montecarlo.Die(faces=np.array([4,5,6]))\n",
    "        Die10c = montecarlo.Die(faces=np.array([4,5,6]))\n",
    "        dlist10 = [Die10a, Die10b, Die10c]\n",
    "\n",
    "        Game10 = montecarlo.Game(dlist10)\n",
    "        Game10.play(times=4)\n",
    "\n",
    "        ana10 = montecarlo.Analyzer(Game10)\n",
    "        df10 = ana10.perm_count()\n",
    "\n",
    "        self.assertTrue((df10.columns == ['perm_counts']) & (isinstance(df10.index, pd.MultiIndex)))\n",
    "\n",
    "                \n",
    "if __name__ == '__main__':\n",
    "    \n",
    "    unittest.main(verbosity=3)\n",
    "\n",
    "```"
   ]
  },
  {
   "cell_type": "markdown",
   "id": "3e058d03-29bc-408f-b36d-0605b4f4b8c0",
   "metadata": {
    "tags": []
   },
   "source": [
    "## Unittest Results (3)\n",
    "\n",
    "Put a copy of the results of running your tests from the command line here.\n",
    "\n",
    "Again, paste as text using triple backticks.\n",
    "\n",
    "- All 12 specified methods return OK (3; .25 each)."
   ]
  },
  {
   "cell_type": "markdown",
   "id": "d9d84339",
   "metadata": {},
   "source": [
    "```\n",
    "test_10_jackpot (__main__.MontecarloTestSuite.test_10_jackpot) ... ok\n",
    "test_11_face_counts_per_roll (__main__.MontecarloTestSuite.test_11_face_counts_per_roll) ... ok\n",
    "test_12_combo_count (__main__.MontecarloTestSuite.test_12_combo_count) ... ok\n",
    "test_13_perm_count (__main__.MontecarloTestSuite.test_13_perm_count) ... ok\n",
    "test_1_die (__main__.MontecarloTestSuite.test_1_die) ... ok\n",
    "test_2_change_weight (__main__.MontecarloTestSuite.test_2_change_weight) ... ok\n",
    "test_3_roll (__main__.MontecarloTestSuite.test_3_roll) ... ok\n",
    "test_4_current_state (__main__.MontecarloTestSuite.test_4_current_state) ... ok\n",
    "test_5_game (__main__.MontecarloTestSuite.test_5_game) ... ok\n",
    "test_6_play (__main__.MontecarloTestSuite.test_6_play) ... ok\n",
    "test_7_show_results_wide (__main__.MontecarloTestSuite.test_7_show_results_wide) ... ok\n",
    "test_8_analyzer (__main__.MontecarloTestSuite.test_8_analyzer) ... ok\n",
    "test_9_show_results_narrow (__main__.MontecarloTestSuite.test_9_show_results_narrow) ... ok\n",
    "\n",
    "----------------------------------------------------------------------\n",
    "Ran 13 tests in 0.020s\n",
    "\n",
    "OK\n",
    "```"
   ]
  },
  {
   "cell_type": "markdown",
   "id": "d9ffe8c5-eb2f-4ad1-af76-a46550e4c7ac",
   "metadata": {},
   "source": [
    "## Import (1)\n",
    "\n",
    "Import your module here. This import should refer to the code in your package directory.\n",
    "\n",
    "- Module successuflly imported (1)."
   ]
  },
  {
   "cell_type": "code",
   "execution_count": 2,
   "id": "a05dffb3-e6d6-4f78-9df4-5abd0cf74ca9",
   "metadata": {
    "tags": []
   },
   "outputs": [],
   "source": [
    "# e.g. import montecarlo.montecarlo \n",
    "from montecarlo import montecarlo"
   ]
  },
  {
   "cell_type": "markdown",
   "id": "f30c4842-65b1-4556-98b6-3fe1a07e1371",
   "metadata": {},
   "source": [
    "## Help Docs (4)\n",
    "\n",
    "Show your docstring documentation by applying `help()` to your imported module.\n",
    "\n",
    "- All methods have a docstring (3; .25 each).\n",
    "- All classes have a docstring (1; .33 each)."
   ]
  },
  {
   "cell_type": "code",
   "execution_count": 5,
   "id": "bf4fbf1f-9885-471c-a0a6-e9ca90e160de",
   "metadata": {
    "tags": []
   },
   "outputs": [
    {
     "name": "stdout",
     "output_type": "stream",
     "text": [
      "Help on module montecarlo.montecarlo in montecarlo:\n",
      "\n",
      "NAME\n",
      "    montecarlo.montecarlo\n",
      "\n",
      "CLASSES\n",
      "    builtins.object\n",
      "        Analyzer\n",
      "        Die\n",
      "        Game\n",
      "    \n",
      "    class Analyzer(builtins.object)\n",
      "     |  Analyzer(game)\n",
      "     |  \n",
      "     |  PURPOSE: Analyzer Object takes the results of a single game and computes descriptive statistical properities.\n",
      "     |  \n",
      "     |  Methods defined here:\n",
      "     |  \n",
      "     |  __init__(self, game)\n",
      "     |      PURPOSE: initalizes Analyzer Object.\n",
      "     |      \n",
      "     |      INPUT: montecarlo Game Object.\n",
      "     |      \n",
      "     |      OUTPUT: None.\n",
      "     |  \n",
      "     |  combo_count(self)\n",
      "     |      PURPOSE: Computes the distinct combinations of faces rolled, along with their counts.\n",
      "     |      \n",
      "     |      INPUT: None.\n",
      "     |      \n",
      "     |      OUTPUT: Data frame with MultiIndex of distinct combinations and counts.\n",
      "     |  \n",
      "     |  face_counts_per_roll(self)\n",
      "     |      PURPOSE: Computes how many times a given face is rolled in each event.\n",
      "     |      \n",
      "     |      INPUT: None.\n",
      "     |      \n",
      "     |      OUTPUT: Data frame.\n",
      "     |  \n",
      "     |  jackpot(self)\n",
      "     |      PURPOSE: computes how many times the game resulted in a jackpot.\n",
      "     |      \n",
      "     |      INPUT: montecarlo Game Object.\n",
      "     |      \n",
      "     |      OUTPUT: int - number of jackpots.\n",
      "     |  \n",
      "     |  perm_count(self)\n",
      "     |      PURPOSE: Computes the distinct permutations of faces rolled, along with their counts.\n",
      "     |      \n",
      "     |      INPUT: None.\n",
      "     |      \n",
      "     |      OUTPUT: Data frame with MultiIndex of distinct permutations and counts.\n",
      "     |  \n",
      "     |  ----------------------------------------------------------------------\n",
      "     |  Data descriptors defined here:\n",
      "     |  \n",
      "     |  __dict__\n",
      "     |      dictionary for instance variables\n",
      "     |  \n",
      "     |  __weakref__\n",
      "     |      list of weak references to the object\n",
      "    \n",
      "    class Die(builtins.object)\n",
      "     |  Die(faces, weight=1)\n",
      "     |  \n",
      "     |  PURPOSE: Create the die class which simulates the roll of dice given input faces and weights\n",
      "     |  \n",
      "     |  Methods defined here:\n",
      "     |  \n",
      "     |  __init__(self, faces, weight=1)\n",
      "     |      PURPOSE: create die object and save dataframe of faces and weights\n",
      "     |      \n",
      "     |      INPUT:\n",
      "     |      faces - NumPy array. Array dtype can be strings or numeric. Array values must be distinct.\n",
      "     |      weight - numeric. Default to 1 for each face value. \n",
      "     |      \n",
      "     |      OUTPUT: None\n",
      "     |  \n",
      "     |  change_weight(self, face, weight)\n",
      "     |      PURPOSE: Changes the weight of a face of the die object.\n",
      "     |      \n",
      "     |      INPUT:\n",
      "     |      face - string or numeric. Face value where weight will be changed.\n",
      "     |      weight - int, float, or str castable as numeric.  \n",
      "     |      \n",
      "     |      OUTPUT: None\n",
      "     |  \n",
      "     |  current_state(self)\n",
      "     |      PURPOSE: Returns copy of the private die data frame.\n",
      "     |      \n",
      "     |      INPUT: None \n",
      "     |      \n",
      "     |      OUTPUT: Data frame\n",
      "     |  \n",
      "     |  roll(self, times=1)\n",
      "     |      PURPOSE: Simulates die roll specified number of times.\n",
      "     |      \n",
      "     |      INPUT: times - int\n",
      "     |      \n",
      "     |      OUTPUT: list\n",
      "     |  \n",
      "     |  ----------------------------------------------------------------------\n",
      "     |  Data descriptors defined here:\n",
      "     |  \n",
      "     |  __dict__\n",
      "     |      dictionary for instance variables\n",
      "     |  \n",
      "     |  __weakref__\n",
      "     |      list of weak references to the object\n",
      "    \n",
      "    class Game(builtins.object)\n",
      "     |  Game(die_list)\n",
      "     |  \n",
      "     |  PURPOSE: Game consists of rolling one or more Die objects one or more times.\n",
      "     |  \n",
      "     |  Methods defined here:\n",
      "     |  \n",
      "     |  __init__(self, die_list)\n",
      "     |      PURPOSE: initalize Game object\n",
      "     |      \n",
      "     |      INPUT: \n",
      "     |      die_list - list that contains one or more similar Die Object. Each Die object should have same number of sides and associated faces. Dies may have unique weights.\n",
      "     |      \n",
      "     |      OUTPUT: Most recent play.\n",
      "     |  \n",
      "     |  play(self, times)\n",
      "     |      PURPOSE: saves the result of dice rolls to a private data frame\n",
      "     |      \n",
      "     |      INPUT: \n",
      "     |      times - int. How many times the dice should be rolled. \n",
      "     |      \n",
      "     |      OUTPUT: None\n",
      "     |  \n",
      "     |  show_results(self, width)\n",
      "     |      PURPOSE: returns copy of the private play data frame.\n",
      "     |      \n",
      "     |      INPUT: \n",
      "     |      width - str value \"narrow\" or \"wide\". Specifies format of returned data frame. \n",
      "     |      \n",
      "     |      OUTPUT: Data frame.\n",
      "     |  \n",
      "     |  ----------------------------------------------------------------------\n",
      "     |  Data descriptors defined here:\n",
      "     |  \n",
      "     |  __dict__\n",
      "     |      dictionary for instance variables\n",
      "     |  \n",
      "     |  __weakref__\n",
      "     |      list of weak references to the object\n",
      "\n",
      "FILE\n",
      "    /sfs/qumulo/qhome/uts4gf/MSDS/DS5100/ds5100_uts4gf_montecarlo/montecarlo/montecarlo.py\n",
      "\n",
      "\n"
     ]
    }
   ],
   "source": [
    "#please note that the jupyter cell only shows a truncated portion of the output for all my docs strings\n",
    "help(montecarlo)"
   ]
  },
  {
   "cell_type": "markdown",
   "id": "a9defa84-b395-4966-bd1c-5c6c2bb7ed68",
   "metadata": {},
   "source": [
    "## `README.md` File (3)\n",
    "\n",
    "Provide link to the README.md file of your project's repo.\n",
    "\n",
    "- Metadata section or info present (1).\n",
    "- Synopsis section showing how each class is called (1). (All must be included.)\n",
    "- API section listing all classes and methods (1). (All must be included.)"
   ]
  },
  {
   "cell_type": "markdown",
   "id": "ee090b33-d593-48a0-bf35-e739cea0942c",
   "metadata": {},
   "source": [
    "URL: https://github.com/olkk9000/ds5100_uts4gf_montecarlo/blob/main/README.md"
   ]
  },
  {
   "cell_type": "markdown",
   "id": "108604c8-8827-42ef-ab59-6b25428fc0ca",
   "metadata": {},
   "source": [
    "## Successful installation (2)\n",
    "\n",
    "Put a screenshot or paste a copy of a terminal session where you successfully install your module with pip.\n",
    "\n",
    "If pasting text, use a preformatted text block to show the results.\n",
    "\n",
    "- Installed with `pip` (1).\n",
    "- Successfully installed message appears (1)."
   ]
  },
  {
   "cell_type": "markdown",
   "id": "1278db6a-aa53-4e5c-a749-93a87ab239e0",
   "metadata": {},
   "source": [
    "```\n",
    "(venv) ~/UVA/ds5100 pip install git+https://github.com/olkk9000/ds5100_uts4gf_montecarlo.git\n",
    "Collecting git+https://github.com/olkk9000/ds5100_uts4gf_montecarlo.git\n",
    "  Cloning https://github.com/olkk9000/ds5100_uts4gf_montecarlo.git to /private/var/folders/95/nj257d754011vnq1qhd9l_ym0000gn/T/pip-req-build-ey3vk753\n",
    "  Running command git clone --filter=blob:none --quiet https://github.com/olkk9000/ds5100_uts4gf_montecarlo.git /private/var/folders/95/nj257d754011vnq1qhd9l_ym0000gn/T/pip-req-build-ey3vk753\n",
    "  Resolved https://github.com/olkk9000/ds5100_uts4gf_montecarlo.git to commit b97f2b1cc3af88bde84aab3c401b5184e68452b9\n",
    "  Installing build dependencies ... done\n",
    "  Getting requirements to build wheel ... done\n",
    "  Installing backend dependencies ... done\n",
    "  Preparing metadata (pyproject.toml) ... done\n",
    "Building wheels for collected packages: montecarlo\n",
    "  Building wheel for montecarlo (pyproject.toml) ... done\n",
    "  Created wheel for montecarlo: filename=montecarlo-0.0.1-py3-none-any.whl size=4270 sha256=a0074e1360383289efd7d743e0fe27271a2657b41c4268ce9d64c24c93a1f80e\n",
    "  Stored in directory: /private/var/folders/95/nj257d754011vnq1qhd9l_ym0000gn/T/pip-ephem-wheel-cache-b5h43ekv/wheels/6d/70/2f/a1ce1a307554dc3265226b901d639a47789cf4a5e6ce3950c1\n",
    "Successfully built montecarlo\n",
    "Installing collected packages: montecarlo\n",
    "Successfully installed montecarlo-0.0.1\n",
    "```"
   ]
  },
  {
   "cell_type": "markdown",
   "id": "7c44695d-d1b3-4edf-9f94-e64d7446f199",
   "metadata": {},
   "source": [
    "# Scenarios\n",
    "\n",
    "Use code blocks to perform the tasks for each scenario.\n",
    "\n",
    "Be sure the outputs are visible before submitting."
   ]
  },
  {
   "cell_type": "markdown",
   "id": "e2479eae-6fc9-44cd-b8d7-9b22cb501f2a",
   "metadata": {
    "tags": []
   },
   "source": [
    "## Scenario 1: A 2-headed Coin (9)\n",
    "\n",
    "Task 1. Create a fair coin (with faces $H$ and $T$) and one unfair coin in which one of the faces has a weight of $5$ and the others $1$.\n",
    "\n",
    "- Fair coin created (1).\n",
    "- Unfair coin created with weight as specified (1)."
   ]
  },
  {
   "cell_type": "code",
   "execution_count": 3,
   "id": "55ce498e-c75f-4425-9e3e-b635bd6cd9e1",
   "metadata": {},
   "outputs": [],
   "source": [
    "import numpy as np\n",
    "\n",
    "fair = montecarlo.Die(faces=np.array([\"H\", \"T\"]))\n",
    "unfair = montecarlo.Die(faces=np.array([\"H\", \"T\"]))\n",
    "unfair.change_weight(face=\"T\", weight=5)"
   ]
  },
  {
   "cell_type": "markdown",
   "id": "02b272ab-99da-4b6e-ac2a-555b73e09c07",
   "metadata": {},
   "source": [
    "Task 2. Play a game of $1000$ flips with two fair dice.\n",
    "\n",
    "- Play method called correclty and without error (1)."
   ]
  },
  {
   "cell_type": "code",
   "execution_count": 4,
   "id": "65c92601-d32d-4326-b215-74953aee27f2",
   "metadata": {},
   "outputs": [],
   "source": [
    "fair2 = montecarlo.Die(faces=np.array([\"H\", \"T\"]))\n",
    "\n",
    "dlist = [fair, fair2]\n",
    "\n",
    "game1 = montecarlo.Game(dlist)\n",
    "game1.play(times=1000)"
   ]
  },
  {
   "cell_type": "markdown",
   "id": "7d9c3dc8-22c1-4cae-81fb-d68d774a05d1",
   "metadata": {},
   "source": [
    "Task 3. Play another game (using a new Game object) of $1000$ flips, this time using two unfair dice and one fair die. For the second unfair die, you can use the same die object twice in the list of dice you pass to the Game object.\n",
    "\n",
    "- New game object created (1).\n",
    "- Play method called correclty and without error (1)."
   ]
  },
  {
   "cell_type": "code",
   "execution_count": 14,
   "id": "d4098bed-1eb2-4084-8d5e-9fda07c3be43",
   "metadata": {},
   "outputs": [],
   "source": [
    "dlist2 = [fair, unfair, unfair]\n",
    "\n",
    "game2 = montecarlo.Game(dlist2)\n",
    "game2.play(times = 1000)"
   ]
  },
  {
   "cell_type": "markdown",
   "id": "f690ebfc-fe71-4eb2-976d-7ac80ca6c23f",
   "metadata": {},
   "source": [
    "Task 4. For each game, use an Analyzer object to determine the raw frequency of jackpots — i.e. getting either all $H$s or all $T$s.\n",
    "\n",
    "- Analyzer objecs instantiated for both games (1).\n",
    "- Raw frequencies reported for both (1)."
   ]
  },
  {
   "cell_type": "code",
   "execution_count": 18,
   "id": "b26b8b7e-3be7-4476-a9a4-37d97536729e",
   "metadata": {},
   "outputs": [
    {
     "name": "stdout",
     "output_type": "stream",
     "text": [
      "Game 1 had 513 jackpots\n",
      "Game 2 had 348 jackpots\n"
     ]
    }
   ],
   "source": [
    "ana1 = montecarlo.Analyzer(game1)\n",
    "ana2 = montecarlo.Analyzer(game2)\n",
    "\n",
    "jackpot1 = ana1.jackpot()\n",
    "jackpot2 = ana2.jackpot()\n",
    "\n",
    "print(f\"Game 1 had {jackpot1} jackpots\")\n",
    "print(f\"Game 2 had {jackpot2} jackpots\")"
   ]
  },
  {
   "cell_type": "markdown",
   "id": "b73d233c-445e-40cd-8858-0c5e1f097105",
   "metadata": {},
   "source": [
    "Task 5. For each analyzer, compute relative frequency as the number of jackpots over the total number of rolls.\n",
    "\n",
    "- Both relative frequencies computed (1)."
   ]
  },
  {
   "cell_type": "code",
   "execution_count": 19,
   "id": "9a96b31b-1b9d-496e-be3e-4bf83c45ec3a",
   "metadata": {},
   "outputs": [
    {
     "name": "stdout",
     "output_type": "stream",
     "text": [
      "Game 1 had 0.513 jackpots over total rolls\n",
      "Game 2 had 0.348 jackpots over total rolls\n"
     ]
    }
   ],
   "source": [
    "jackpot_freq1 = jackpot1/1000\n",
    "jackpot_freq2 = jackpot2/1000\n",
    "\n",
    "print(f\"Game 1 had {jackpot_freq1} jackpots over total rolls\")\n",
    "print(f\"Game 2 had {jackpot_freq2} jackpots over total rolls\")"
   ]
  },
  {
   "cell_type": "markdown",
   "id": "a6e1e734-7f5c-4721-8ba4-2f3a424cf984",
   "metadata": {},
   "source": [
    "Task 6. Show your results, comparing the two relative frequencies, in a simple bar chart.\n",
    "\n",
    "- Bar chart plotted and correct (1)."
   ]
  },
  {
   "cell_type": "code",
   "execution_count": 26,
   "id": "473fa67c-aa53-4aa3-a0b7-e8772b3f6ed3",
   "metadata": {},
   "outputs": [
    {
     "data": {
      "text/plain": [
       "Text(0.5, 1.0, 'Relative Jackpot Frequency by Game')"
      ]
     },
     "execution_count": 26,
     "metadata": {},
     "output_type": "execute_result"
    },
    {
     "data": {
      "image/png": "[encoded data removed]",
      "text/plain": [
       "<Figure size 640x480 with 1 Axes>"
      ]
     },
     "metadata": {},
     "output_type": "display_data"
    }
   ],
   "source": [
    "import matplotlib.pyplot as plt\n",
    "\n",
    "xs = ['Game1', 'Game2']\n",
    "ys = [jackpot_freq1, jackpot_freq2]\n",
    "\n",
    "plt.bar(xs, ys, align='center', color='lightblue')\n",
    "plt.title(\"Relative Jackpot Frequency by Game\")"
   ]
  },
  {
   "cell_type": "markdown",
   "id": "725cfa5b-e4b7-47c9-86aa-8d9e1fe6c8c7",
   "metadata": {},
   "source": [
    "## Scenario 2: A 6-sided Die (9)\n",
    "\n",
    "Task 1. Create three dice, each with six sides having the faces 1 through 6.\n",
    "\n",
    "- Three die objects created (1)."
   ]
  },
  {
   "cell_type": "code",
   "execution_count": 27,
   "id": "6a8bc611-325a-4e05-88d5-980e0a2cf7c5",
   "metadata": {},
   "outputs": [],
   "source": [
    "die1 = montecarlo.Die(faces=np.array([1,2,3,4,5,6]))\n",
    "die2 = montecarlo.Die(faces=np.array([1,2,3,4,5,6]))\n",
    "die3 = montecarlo.Die(faces=np.array([1,2,3,4,5,6]))"
   ]
  },
  {
   "cell_type": "markdown",
   "id": "2ed3ad26-fbe9-43bd-9ad7-f683a4191d12",
   "metadata": {},
   "source": [
    "Task 2. Convert one of the dice to an unfair one by weighting the face $6$ five times more than the other weights (i.e. it has weight of 5 and the others a weight of 1 each).\n",
    "\n",
    "- Unfair die created with proper call to weight change method (1)."
   ]
  },
  {
   "cell_type": "code",
   "execution_count": 28,
   "id": "e33dd18f-7f90-456d-a680-61c08a328e21",
   "metadata": {},
   "outputs": [],
   "source": [
    "die1.change_weight(face=6, weight=5)"
   ]
  },
  {
   "cell_type": "markdown",
   "id": "7f6c062a-4c5b-45b9-96b8-76a0354c7e47",
   "metadata": {},
   "source": [
    "Task 3. Convert another of the dice to be unfair by weighting the face $1$ five times more than the others.\n",
    "\n",
    "- Unfair die created with proper call to weight change method (1)."
   ]
  },
  {
   "cell_type": "code",
   "execution_count": 30,
   "id": "01133a4e-6b06-4246-8d90-8e6d6995be51",
   "metadata": {},
   "outputs": [],
   "source": [
    "die3.change_weight(face=1, weight=5)"
   ]
  },
  {
   "cell_type": "markdown",
   "id": "f0ed31cb-0a3c-4eb2-b85e-6ed6b2eb6e58",
   "metadata": {},
   "source": [
    "Task 4. Play a game of $10000$ rolls with $5$ fair dice.\n",
    "\n",
    "- Game class properly instantiated (1). \n",
    "- Play method called properly (1)."
   ]
  },
  {
   "cell_type": "code",
   "execution_count": 33,
   "id": "e92395a4-9ed8-4cb0-8c85-38768a784ffc",
   "metadata": {},
   "outputs": [],
   "source": [
    "dlist4 = [die2, die2, die2, die2, die2]\n",
    "\n",
    "game4 = montecarlo.Game(dlist4)\n",
    "game4.play(times=10000)"
   ]
  },
  {
   "cell_type": "markdown",
   "id": "7814b402-46a4-40e5-8141-20e05c3e646b",
   "metadata": {},
   "source": [
    "Task 5. Play another game of $10000$ rolls, this time with $2$ unfair dice, one as defined in steps #2 and #3 respectively, and $3$ fair dice.\n",
    "\n",
    "- Game class properly instantiated (1). \n",
    "- Play method called properly (1)."
   ]
  },
  {
   "cell_type": "code",
   "execution_count": 35,
   "id": "7cd58fba-b2a5-4d5d-bc6d-2a7a68d18c4f",
   "metadata": {},
   "outputs": [],
   "source": [
    "dlist5 = [die1, die3, die2, die2, die2]\n",
    "\n",
    "game5 = montecarlo.Game(dlist5)\n",
    "game5.play(times=10000)"
   ]
  },
  {
   "cell_type": "markdown",
   "id": "7b6cd372-2bb8-4df8-ade1-8f48bc300955",
   "metadata": {},
   "source": [
    "Task 6. For each game, use an Analyzer object to determine the relative frequency of jackpots and show your results, comparing the two relative frequencies, in a simple bar chart.\n",
    "\n",
    "- Jackpot methods called (1).\n",
    "- Graph produced (1)."
   ]
  },
  {
   "cell_type": "code",
   "execution_count": 46,
   "id": "bbdcf695-8937-406e-9b53-aa0b9ee3c59a",
   "metadata": {},
   "outputs": [
    {
     "data": {
      "text/plain": [
       "Text(0.5, 1.0, 'Relative Jackpot Frequency by Game')"
      ]
     },
     "execution_count": 46,
     "metadata": {},
     "output_type": "execute_result"
    },
    {
     "data": {
      "image/png": "[encoded data removed]",
      "text/plain": [
       "<Figure size 640x480 with 1 Axes>"
      ]
     },
     "metadata": {},
     "output_type": "display_data"
    }
   ],
   "source": [
    "ana4 = montecarlo.Analyzer(game4)\n",
    "ana5 = montecarlo.Analyzer(game5)\n",
    "\n",
    "jackpot_freq4 = ana4.jackpot()/1000\n",
    "jackpot_freq5 = ana5.jackpot()/1000\n",
    "\n",
    "xs = ['Game4', 'Game5']\n",
    "ys = [jackpot_freq4, jackpot_freq5]\n",
    "\n",
    "plt.bar(xs, ys, align='center', color='pink')\n",
    "plt.title(\"Relative Jackpot Frequency by Game\")\n"
   ]
  },
  {
   "cell_type": "markdown",
   "id": "9f04e9be-8fcf-4ea4-a391-6614608285f8",
   "metadata": {},
   "source": [
    "## Scenario 3: Letters of the Alphabet (7)\n",
    "\n",
    "Task 1. Create a \"die\" of letters from $A$ to $Z$ with weights based on their frequency of usage as found in the data file `english_letters.txt`. Use the frequencies (i.e. raw counts) as weights.\n",
    "\n",
    "- Die correctly instantiated with source file data (1).\n",
    "- Weights properly applied using weight setting method (1)."
   ]
  },
  {
   "cell_type": "code",
   "execution_count": 5,
   "id": "b0ceb771-3cdf-4d8f-8c2c-020806bbb909",
   "metadata": {},
   "outputs": [],
   "source": [
    "#inporting letters and formatting\n",
    "import pandas as pd\n",
    "\n",
    "letters_df = pd.read_csv('./etc/english_letters.txt',sep=\" \", header=None)\n",
    "letters = letters_df[0].to_list()\n",
    "weights = letters_df[1].to_list()"
   ]
  },
  {
   "cell_type": "code",
   "execution_count": 6,
   "id": "ec3dfe46",
   "metadata": {},
   "outputs": [],
   "source": [
    "#creating alphabet die with weights\n",
    "alpha = montecarlo.Die(faces=np.array(letters))\n",
    "\n",
    "for k,v in zip(letters,weights):\n",
    "    alpha.change_weight(face=k, weight=v)"
   ]
  },
  {
   "cell_type": "markdown",
   "id": "88e2e14a-6223-470a-a2c8-bca1120d7a5b",
   "metadata": {},
   "source": [
    "Task 2. Play a game involving $4$ of these dice with $1000$ rolls.\n",
    "\n",
    "- Game play method properly called (1)."
   ]
  },
  {
   "cell_type": "code",
   "execution_count": 7,
   "id": "2ae087cc-936d-4f1e-bddb-a7c179d139e0",
   "metadata": {},
   "outputs": [],
   "source": [
    "dlist6 = [alpha, alpha, alpha, alpha]\n",
    "\n",
    "game6 = montecarlo.Game(dlist6)\n",
    "game6.play(times=1000)"
   ]
  },
  {
   "cell_type": "markdown",
   "id": "3b9ff800-bf1f-4f66-9d7f-ff57a648e9f0",
   "metadata": {},
   "source": [
    "Task 3. Determine how many permutations in your results are actual English words, based on the vocabulary found in `scrabble_words.txt`.\n",
    "\n",
    "- Use permutation method (1).\n",
    "- Get count as difference between permutations and vocabulary (1)."
   ]
  },
  {
   "cell_type": "code",
   "execution_count": 8,
   "id": "ed1c7fa0-cfa3-4cf4-9fd0-9f84b86b0f64",
   "metadata": {},
   "outputs": [],
   "source": [
    "#getting scrabble words\n",
    "scrabble = pd.read_csv(\"./etc/scrabble_words.txt\", header=None)\n",
    "vocab = scrabble[0].to_list()"
   ]
  },
  {
   "cell_type": "code",
   "execution_count": 16,
   "id": "90ddbf46",
   "metadata": {},
   "outputs": [
    {
     "name": "stdout",
     "output_type": "stream",
     "text": [
      "64 of the permuatations in game6 are actual English words.\n"
     ]
    }
   ],
   "source": [
    "#getting list/cleaning of permutations from perm_counts\n",
    "ana6 = montecarlo.Analyzer(game6)\n",
    "perms6 = ana6.perm_count()\n",
    "\n",
    "perms6 = perms6.reset_index()\n",
    "perms6['word'] = perms6.apply(lambda x: [x[c] for c in [0,1,2,3]], axis=1)\n",
    "perms6['word'] = perms6['word'].apply(lambda x: \"\".join(x))\n",
    "perm_word6 = perms6['word'].to_list()\n",
    "\n",
    "union6 = list(set(perm_word6) & set(vocab))\n",
    "print(f\"{len(union6)} of the permuatations in game6 are actual English words.\")\n"
   ]
  },
  {
   "cell_type": "markdown",
   "id": "fcf068cf-381a-4b3e-ac3a-0510eb4dbdb0",
   "metadata": {},
   "source": [
    "Task 4. Repeat steps #2 and #3, this time with $5$ dice. How many actual words does this produce? Which produces more?\n",
    "\n",
    "- Successfully repreats steps (1).\n",
    "- Identifies parameter with most found words (1)."
   ]
  },
  {
   "cell_type": "code",
   "execution_count": 17,
   "id": "e3198f94-635b-4304-88e9-bfcea5d0cf5a",
   "metadata": {},
   "outputs": [],
   "source": [
    "#creating new game\n",
    "dlist7 = [alpha, alpha, alpha, alpha, alpha]\n",
    "\n",
    "game7 = montecarlo.Game(dlist7)\n",
    "game7.play(times=1000)"
   ]
  },
  {
   "cell_type": "code",
   "execution_count": 20,
   "id": "e1263fde",
   "metadata": {},
   "outputs": [
    {
     "name": "stdout",
     "output_type": "stream",
     "text": [
      "Game7 created 11 actual words. Game6 created 64 actual words. Game6 with four dice produced the most words.\n"
     ]
    }
   ],
   "source": [
    "#getting list/cleaning of permutations from perm_counts\n",
    "ana7 = montecarlo.Analyzer(game7)\n",
    "perms7 = ana7.perm_count()\n",
    "\n",
    "perms7 = perms7.reset_index()\n",
    "perms7['word'] = perms7.apply(lambda x: [x[c] for c in [0,1,2,3,4]], axis=1)\n",
    "perms7['word'] = perms7['word'].apply(lambda x: \"\".join(x))\n",
    "perm_word7 = perms7['word'].to_list()\n",
    "\n",
    "union7 = list(set(perm_word7) & set(vocab))\n",
    "\n",
    "if len(union7) > len(union6):\n",
    "    print(f\"Game7 created {len(union7)} actual words. Game6 created {len(union6)} actual words. Game7 with five dice produced the most words.\")\n",
    "else:\n",
    "    print(f\"Game7 created {len(union7)} actual words. Game6 created {len(union6)} actual words. Game6 with four dice produced the most words.\")"
   ]
  },
  {
   "cell_type": "markdown",
   "id": "c278a60d-a4dd-48df-8317-650185f7f0ca",
   "metadata": {},
   "source": [
    "# Submission"
   ]
  },
  {
   "cell_type": "markdown",
   "id": "a2b34ea0-96d3-4e0a-ac65-00a1cf287008",
   "metadata": {},
   "source": [
    "When finished completing the above tasks, save this file to your local repo (and within your project), and them push it to your GitHub repo.\n",
    "\n",
    "Then convert this file to a PDF and submit it to GradeScope according to the assignment instructions in Canvas."
   ]
  }
 ],
 "metadata": {
  "kernelspec": {
   "display_name": "Python 3 (ipykernel)",
   "language": "python",
   "name": "python3"
  },
  "language_info": {
   "codemirror_mode": {
    "name": "ipython",
    "version": 3
   },
   "file_extension": ".py",
   "mimetype": "text/x-python",
   "name": "python",
   "nbconvert_exporter": "python",
   "pygments_lexer": "ipython3",
   "version": "3.11.8"
  },
  "toc-autonumbering": true,
  "widgets": {
   "application/vnd.jupyter.widget-state+json": {
    "state": {},
    "version_major": 2,
    "version_minor": 0
   }
  }
 },
 "nbformat": 4,
 "nbformat_minor": 5
}
